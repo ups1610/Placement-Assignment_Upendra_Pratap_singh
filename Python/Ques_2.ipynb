{
 "cells": [
  {
   "attachments": {},
   "cell_type": "markdown",
   "metadata": {},
   "source": [
    "Consider a string to be valid if all characters of the string appear the same number of times. It is also valid if\n",
    "he can remove just one character at the index in the string, and the remaining characters will occur the same\n",
    "number of times. Given a string, determine if it is valid. If so, return YES , otherwise return NO .\n",
    "\n",
    "Note - You have to write at least 2 additional test cases in which your program will run successfully and provide\n",
    "an explanation for the same.\n",
    "\n",
    "Example input 1 - s = “abc”. This is a valid string because frequencies are { “a”: 1, “b”: 1, “c”: 1 }\n",
    "\n",
    "Example output 1- YES\n",
    "\n",
    "Example input 2 - s “abccc”. This string is not valid as we can remove only 1 occurrence of “c”. That leaves\n",
    "character frequencies of { “a”: 1, “b”: 1 , “c”: 2 }\n",
    "\n",
    "Example output 2 - NO\n",
    "\n",
    "Example input 3 - s = “aabbcc”. This is a valid string because frequencies are { “a”: 2, “b”: 2, “c”: 2 }\n",
    "\n",
    "Example output 2- YES\n",
    "\n",
    "Example input 4 - s “aabbccc”. This string is not valid as we can remove only 1 occurrence of “c”. That leaves\n",
    "character frequencies of { “a”: 2, “b”: 2 , “c”: 2 }\n",
    "\n",
    "Example output 4- YES\n",
    "\n",
    "\n",
    "\n"
   ]
  },
  {
   "cell_type": "code",
   "execution_count": 10,
   "metadata": {},
   "outputs": [
    {
     "name": "stdout",
     "output_type": "stream",
     "text": [
      "NO\n"
     ]
    }
   ],
   "source": [
    "string = input(\"Enter a string \")\n",
    "frequency = []\n",
    "flag = 0\n",
    "for char in string:\n",
    "    frequency.append(string.count(char))\n",
    "for i in range(0,len(frequency)):\n",
    "    if i+1 == len(frequency)-1:\n",
    "        break;\n",
    "    elif frequency[i]==frequency[i+1]:\n",
    "        continue\n",
    "    else:\n",
    "        if frequency[i]==frequency[i+1]-1:\n",
    "            continue\n",
    "        else:\n",
    "            flag=1\n",
    "if flag:\n",
    "    print(\"NO\")\n",
    "else:\n",
    "    print(\"YES\")                \n",
    "\n"
   ]
  }
 ],
 "metadata": {
  "kernelspec": {
   "display_name": "base",
   "language": "python",
   "name": "python3"
  },
  "language_info": {
   "codemirror_mode": {
    "name": "ipython",
    "version": 3
   },
   "file_extension": ".py",
   "mimetype": "text/x-python",
   "name": "python",
   "nbconvert_exporter": "python",
   "pygments_lexer": "ipython3",
   "version": "3.8.8"
  },
  "orig_nbformat": 4
 },
 "nbformat": 4,
 "nbformat_minor": 2
}
