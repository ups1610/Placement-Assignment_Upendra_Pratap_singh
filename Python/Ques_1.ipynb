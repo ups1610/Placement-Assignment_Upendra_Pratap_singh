{
 "cells": [
  {
   "attachments": {},
   "cell_type": "markdown",
   "metadata": {},
   "source": [
    "### Question 1: -\n",
    "Write a program that takes a string as input, and counts the frequency of each word in the string, there might\n",
    "be repeated characters in the string. Your task is to find the highest frequency and returns the length of the\n",
    "highest-frequency word.\n",
    "\n",
    "Note - You have to write at least 2 additional test cases in which your program will run successfully and provide\n",
    "an explanation for the same.\n",
    "\n",
    "Example input 1 - string = “write write write all the number from from from 1 to 100”\n",
    "\n",
    "Example output - 5\n",
    "\n",
    "Explanation - From the given string we can note that the most frequent words are “write” and “from” and\n",
    "the maximum value of both the values is “write” and its corresponding length is 5\n",
    "\n",
    "Example input 2 - string = \"the ineuron give us such a wonderfull assignment for the practice\"\n",
    "\n",
    "Example output - 3\n",
    "\n",
    "Explanation - From the given string we can note that most frequent word with max frequency is \"the\" and the length is 3.\n",
    "\n",
    "Example input 2 - string = \"Loop will not run for duplicate items and only for unique items in the set\"\n",
    "\n",
    "Example output - 5\n",
    "\n",
    "Explanation - In this string we have noticed that most frequent words are \"for\" with 2 outcomes and \"items\" with 2 outcomes\n",
    "since \"items\" length is more than the \"for\" so ans is 5. "
   ]
  },
  {
   "cell_type": "code",
   "execution_count": 8,
   "metadata": {},
   "outputs": [
    {
     "name": "stdout",
     "output_type": "stream",
     "text": [
      "5\n"
     ]
    }
   ],
   "source": [
    "string = input(\"Enter a string \")\n",
    "words = string.split(' ')\n",
    "maxi = 0\n",
    "for word in words:\n",
    "    cnt = words.count(word)\n",
    "    if  cnt >= maxi:\n",
    "        maxi = cnt\n",
    "        ans = len(word)   \n",
    "print(ans)"
   ]
  },
  {
   "cell_type": "code",
   "execution_count": null,
   "metadata": {},
   "outputs": [],
   "source": []
  }
 ],
 "metadata": {
  "kernelspec": {
   "display_name": "base",
   "language": "python",
   "name": "python3"
  },
  "language_info": {
   "codemirror_mode": {
    "name": "ipython",
    "version": 3
   },
   "file_extension": ".py",
   "mimetype": "text/x-python",
   "name": "python",
   "nbconvert_exporter": "python",
   "pygments_lexer": "ipython3",
   "version": "3.8.8"
  },
  "orig_nbformat": 4
 },
 "nbformat": 4,
 "nbformat_minor": 2
}
