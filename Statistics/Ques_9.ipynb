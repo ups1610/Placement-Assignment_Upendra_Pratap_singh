{
 "cells": [
  {
   "cell_type": "code",
   "execution_count": 2,
   "metadata": {},
   "outputs": [],
   "source": [
    "# collect the data from given question 8\n",
    "exam_1 = [85,70,90,75,95]\n",
    "exam_2 = [90,80,85,70,92]\n",
    "exam_3 = [92,85,88,75,96]"
   ]
  },
  {
   "cell_type": "code",
   "execution_count": 3,
   "metadata": {},
   "outputs": [
    {
     "name": "stdout",
     "output_type": "stream",
     "text": [
      "Reject the Null hypothesis\n"
     ]
    }
   ],
   "source": [
    "# perform one-way ANOVA-test\n",
    "from scipy.stats import f_oneway\n",
    "corr_ , p_value = f_oneway(exam_1,exam_2,exam_3)\n",
    "\n",
    "if p_value < 0.05:\n",
    "    print(\"Accept the Null hypothesis\")\n",
    "else:\n",
    "    print(\"Reject the Null hypothesis\")    "
   ]
  }
 ],
 "metadata": {
  "kernelspec": {
   "display_name": "base",
   "language": "python",
   "name": "python3"
  },
  "language_info": {
   "codemirror_mode": {
    "name": "ipython",
    "version": 3
   },
   "file_extension": ".py",
   "mimetype": "text/x-python",
   "name": "python",
   "nbconvert_exporter": "python",
   "pygments_lexer": "ipython3",
   "version": "3.8.8"
  },
  "orig_nbformat": 4
 },
 "nbformat": 4,
 "nbformat_minor": 2
}
