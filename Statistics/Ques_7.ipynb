{
 "cells": [
  {
   "cell_type": "code",
   "execution_count": 13,
   "metadata": {},
   "outputs": [],
   "source": [
    "# import useful libraries\n",
    "import numpy as np"
   ]
  },
  {
   "attachments": {},
   "cell_type": "markdown",
   "metadata": {},
   "source": [
    "The equations of two lines of regression, obtained in a correlation analysis between variables X and Y are as follows:\n",
    "\n",
    "and . 2𝑋 + 3 − 8 = 0 2𝑌 + 𝑋 − 5 = 0 The variance of 𝑋 = 4 Find the\n",
    "\n",
    "a. Variance of Y\n",
    "\n",
    "b. Coefficient of determination of C and Y\n",
    "\n",
    "c. Standard error of estimate of X on Y and of Y on X."
   ]
  },
  {
   "cell_type": "code",
   "execution_count": 14,
   "metadata": {},
   "outputs": [
    {
     "name": "stdout",
     "output_type": "stream",
     "text": [
      "Variance of Y: 0.9934412178924402\n",
      "Coefficient of Determination (R-squared): 1.0\n",
      "Standard Error of Estimate of X on Y: 0.0\n",
      "Standard Error of Estimate of Y on X: 0.0\n",
      "Since we are using random value of X so ans may varies\n"
     ]
    }
   ],
   "source": [
    "# Given regression equations\n",
    "eq1 = lambda X: 2*X + 3 - 8\n",
    "eq2 = lambda Y, X: 2*Y + X - 5\n",
    "\n",
    "# Variance of X\n",
    "var_X = 4\n",
    "\n",
    "# Calculating variance of Y\n",
    "# Since the regression equations are not in a standard form, we need to solve for Y\n",
    "# Rearrange equation 2 to solve for Y\n",
    "def solve_for_Y(X):\n",
    "    return (5 - X) / 2\n",
    "\n",
    "# Calculate Y values using the provided equation 2 and variance of X\n",
    "X_values = np.random.normal(0, np.sqrt(var_X), 10000)  # Generate random X values with the given variance\n",
    "Y_values = solve_for_Y(X_values)  # Calculate corresponding Y values\n",
    "\n",
    "var_Y = np.var(Y_values)  # Variance of Y\n",
    "\n",
    "# Calculating coefficient of determination (R-squared)\n",
    "corr_coef = np.corrcoef(X_values, Y_values)[0, 1]  # Calculate the correlation coefficient\n",
    "R_squared = corr_coef**2  # Square the correlation coefficient to get R-squared\n",
    "\n",
    "# Calculating standard error of estimate\n",
    "std_error_X_on_Y = np.sqrt(1 - R_squared) * np.std(X_values)  # Standard error of X on Y\n",
    "std_error_Y_on_X = np.sqrt(1 - R_squared) * np.std(Y_values)  # Standard error of Y on X\n",
    "\n",
    "print(\"Variance of Y:\", var_Y)\n",
    "print(\"Coefficient of Determination (R-squared):\", R_squared)\n",
    "print(\"Standard Error of Estimate of X on Y:\", std_error_X_on_Y)\n",
    "print(\"Standard Error of Estimate of Y on X:\", std_error_Y_on_X)\n",
    "print(\"Since we are using random value of X so ans may varies\")\n"
   ]
  }
 ],
 "metadata": {
  "kernelspec": {
   "display_name": "base",
   "language": "python",
   "name": "python3"
  },
  "language_info": {
   "codemirror_mode": {
    "name": "ipython",
    "version": 3
   },
   "file_extension": ".py",
   "mimetype": "text/x-python",
   "name": "python",
   "nbconvert_exporter": "python",
   "pygments_lexer": "ipython3",
   "version": "3.8.8"
  },
  "orig_nbformat": 4
 },
 "nbformat": 4,
 "nbformat_minor": 2
}
