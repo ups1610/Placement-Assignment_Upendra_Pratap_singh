{
 "cells": [
  {
   "cell_type": "code",
   "execution_count": 1,
   "metadata": {},
   "outputs": [],
   "source": [
    "# import useful libraries\n",
    "import pandas as pd\n",
    "import numpy as np\n",
    "import matplotlib.pyplot as plt\n",
    "import seaborn as sns"
   ]
  },
  {
   "cell_type": "code",
   "execution_count": 7,
   "metadata": {},
   "outputs": [
    {
     "data": {
      "text/html": [
       "<div>\n",
       "<style scoped>\n",
       "    .dataframe tbody tr th:only-of-type {\n",
       "        vertical-align: middle;\n",
       "    }\n",
       "\n",
       "    .dataframe tbody tr th {\n",
       "        vertical-align: top;\n",
       "    }\n",
       "\n",
       "    .dataframe thead th {\n",
       "        text-align: right;\n",
       "    }\n",
       "</style>\n",
       "<table border=\"1\" class=\"dataframe\">\n",
       "  <thead>\n",
       "    <tr style=\"text-align: right;\">\n",
       "      <th></th>\n",
       "      <th>Patient ID</th>\n",
       "      <th>Blood Pressure Before (mmHg)</th>\n",
       "      <th>Blood Pressure After (mmHg)</th>\n",
       "    </tr>\n",
       "  </thead>\n",
       "  <tbody>\n",
       "    <tr>\n",
       "      <th>0</th>\n",
       "      <td>1</td>\n",
       "      <td>130</td>\n",
       "      <td>120</td>\n",
       "    </tr>\n",
       "    <tr>\n",
       "      <th>1</th>\n",
       "      <td>2</td>\n",
       "      <td>142</td>\n",
       "      <td>135</td>\n",
       "    </tr>\n",
       "    <tr>\n",
       "      <th>2</th>\n",
       "      <td>3</td>\n",
       "      <td>120</td>\n",
       "      <td>118</td>\n",
       "    </tr>\n",
       "    <tr>\n",
       "      <th>3</th>\n",
       "      <td>4</td>\n",
       "      <td>135</td>\n",
       "      <td>127</td>\n",
       "    </tr>\n",
       "    <tr>\n",
       "      <th>4</th>\n",
       "      <td>5</td>\n",
       "      <td>148</td>\n",
       "      <td>140</td>\n",
       "    </tr>\n",
       "  </tbody>\n",
       "</table>\n",
       "</div>"
      ],
      "text/plain": [
       "   Patient ID   Blood Pressure Before (mmHg)   Blood Pressure After (mmHg)\n",
       "0           1                            130                           120\n",
       "1           2                            142                           135\n",
       "2           3                            120                           118\n",
       "3           4                            135                           127\n",
       "4           5                            148                           140"
      ]
     },
     "execution_count": 7,
     "metadata": {},
     "output_type": "execute_result"
    }
   ],
   "source": [
    "#load dataset\n",
    "url='https://drive.google.com/file/d/1mCjtYHiX--mMUjicuaP2gH3k-SnFxt8Y/view?usp=share_'\n",
    "url='https://drive.google.com/uc?id=' + url.split('/')[-2]\n",
    "df = pd.read_csv(url)\n",
    "df.head()"
   ]
  },
  {
   "attachments": {},
   "cell_type": "markdown",
   "metadata": {},
   "source": [
    "Consider the ‘Blood Pressure Before’ and ‘Blood Pressure After’ columns from the data and calculate the following\n",
    "\n",
    "https://drive.google.com/file/d/1mCjtYHiX--mMUjicuaP2gH3k-SnFxt8Y/view?usp=share_\n",
    "\n",
    "a. Measure the dispersion in both and interpret the results.\n",
    "\n",
    "b. Calculate mean and 5% confidence interval and plot it in a graph\n",
    "\n",
    "c. Calculate the Mean absolute deviation and Standard deviation and interpret the results.\n",
    "\n",
    "d. Calculate the correlation coefficient and check the significance of it at 1% level of significance.\n"
   ]
  },
  {
   "cell_type": "code",
   "execution_count": 14,
   "metadata": {},
   "outputs": [
    {
     "data": {
      "text/html": [
       "<div>\n",
       "<style scoped>\n",
       "    .dataframe tbody tr th:only-of-type {\n",
       "        vertical-align: middle;\n",
       "    }\n",
       "\n",
       "    .dataframe tbody tr th {\n",
       "        vertical-align: top;\n",
       "    }\n",
       "\n",
       "    .dataframe thead th {\n",
       "        text-align: right;\n",
       "    }\n",
       "</style>\n",
       "<table border=\"1\" class=\"dataframe\">\n",
       "  <thead>\n",
       "    <tr style=\"text-align: right;\">\n",
       "      <th></th>\n",
       "      <th>Patient ID</th>\n",
       "      <th>Blood Pressure Before (mmHg)</th>\n",
       "      <th>Blood Pressure After (mmHg)</th>\n",
       "    </tr>\n",
       "  </thead>\n",
       "  <tbody>\n",
       "    <tr>\n",
       "      <th>count</th>\n",
       "      <td>100.000000</td>\n",
       "      <td>100.000000</td>\n",
       "      <td>100.000000</td>\n",
       "    </tr>\n",
       "    <tr>\n",
       "      <th>mean</th>\n",
       "      <td>50.500000</td>\n",
       "      <td>133.910000</td>\n",
       "      <td>128.360000</td>\n",
       "    </tr>\n",
       "    <tr>\n",
       "      <th>std</th>\n",
       "      <td>29.011492</td>\n",
       "      <td>6.598278</td>\n",
       "      <td>6.888022</td>\n",
       "    </tr>\n",
       "    <tr>\n",
       "      <th>min</th>\n",
       "      <td>1.000000</td>\n",
       "      <td>120.000000</td>\n",
       "      <td>118.000000</td>\n",
       "    </tr>\n",
       "    <tr>\n",
       "      <th>25%</th>\n",
       "      <td>25.750000</td>\n",
       "      <td>128.000000</td>\n",
       "      <td>123.000000</td>\n",
       "    </tr>\n",
       "    <tr>\n",
       "      <th>50%</th>\n",
       "      <td>50.500000</td>\n",
       "      <td>135.000000</td>\n",
       "      <td>128.000000</td>\n",
       "    </tr>\n",
       "    <tr>\n",
       "      <th>75%</th>\n",
       "      <td>75.250000</td>\n",
       "      <td>139.250000</td>\n",
       "      <td>135.000000</td>\n",
       "    </tr>\n",
       "    <tr>\n",
       "      <th>max</th>\n",
       "      <td>100.000000</td>\n",
       "      <td>148.000000</td>\n",
       "      <td>141.000000</td>\n",
       "    </tr>\n",
       "  </tbody>\n",
       "</table>\n",
       "</div>"
      ],
      "text/plain": [
       "       Patient ID   Blood Pressure Before (mmHg)   Blood Pressure After (mmHg)\n",
       "count  100.000000                     100.000000                    100.000000\n",
       "mean    50.500000                     133.910000                    128.360000\n",
       "std     29.011492                       6.598278                      6.888022\n",
       "min      1.000000                     120.000000                    118.000000\n",
       "25%     25.750000                     128.000000                    123.000000\n",
       "50%     50.500000                     135.000000                    128.000000\n",
       "75%     75.250000                     139.250000                    135.000000\n",
       "max    100.000000                     148.000000                    141.000000"
      ]
     },
     "execution_count": 14,
     "metadata": {},
     "output_type": "execute_result"
    }
   ],
   "source": [
    "df.describe()"
   ]
  },
  {
   "attachments": {},
   "cell_type": "markdown",
   "metadata": {},
   "source": [
    "##### a. Measure the dispersion in both and interpret the results.\n"
   ]
  },
  {
   "attachments": {},
   "cell_type": "markdown",
   "metadata": {},
   "source": [
    "*To measure the dispersion in Blood Pressure Before and Blood Pressure After columns,*\n",
    "\n",
    "*we have to claculate the **range** , **variance** , **standard deviation*** "
   ]
  },
  {
   "cell_type": "code",
   "execution_count": 34,
   "metadata": {},
   "outputs": [
    {
     "name": "stdout",
     "output_type": "stream",
     "text": [
      "Range of Blood Pressure Before and then After : [21 - 23]\n",
      "Variance of Blood Pressure Before and then After : [43.53727272727271 - 47.4448484848485]\n",
      "Standard Deviation of Blood Pressure Before and then After : [6.598278012275075 - 6.8880221025232276]\n",
      "====================================================================================================\n",
      "Interpretition =>\n",
      "Since the range varies from 21 - 23 so there is not too much variablity in the blood pressure measurements before the event or treatment compared to after.\n",
      "----------------------------------------------------------------------------------------------------\n",
      "A larger variance or standard deviation indicates greater dispersion or variability in the blood pressure data.\n",
      " But there is no huge difference in the range so there is little diversity in the blood pressure data\n"
     ]
    }
   ],
   "source": [
    "#filter the data from the dataframe\n",
    "blood_pressure_before = df[' Blood Pressure Before (mmHg)']\n",
    "blood_pressure_after = df[' Blood Pressure After (mmHg)'] \n",
    "\n",
    "#=======range-calculation==========\n",
    "\n",
    "# Blood Pressure Before\n",
    "max_pressure_before = blood_pressure_after.max()\n",
    "min_pressure_before = blood_pressure_before.min()\n",
    "range_blood_pressure_before = max_pressure_before - min_pressure_before\n",
    "\n",
    "# Blood Pressure After\n",
    "max_pressure_after = blood_pressure_after.max()\n",
    "min_pressure_after = blood_pressure_after.min()\n",
    "range_blood_pressure_after = max_pressure_after - min_pressure_after\n",
    "\n",
    "#==========variance-calculation==========\n",
    "\n",
    "# Blood Pressure Befor\n",
    "variance_before = df[' Blood Pressure Before (mmHg)'].var()\n",
    "# Blood Pressure After\n",
    "variance_after = df[' Blood Pressure After (mmHg)'].var()\n",
    "\n",
    "#===========standard deviation============\n",
    "std_before = df.describe()[' Blood Pressure Before (mmHg)'][2]\n",
    "std_after = df.describe()[' Blood Pressure After (mmHg)'][2]\n",
    "\n",
    "print(\"Range of Blood Pressure Before and then After : \" + \"[\" + str(range_blood_pressure_before) + \" - \" + str(range_blood_pressure_after) + \"]\")\n",
    "print(\"Variance of Blood Pressure Before and then After : \" + \"[\" + str(variance_before) + \" - \" + str(variance_after) + \"]\")\n",
    "print(\"Standard Deviation of Blood Pressure Before and then After : \" + \"[\" + str(std_before) + \" - \" + str(std_after) + \"]\")\n",
    "print(100*\"=\")\n",
    "print(\"Interpretition =>\")\n",
    "print(\"Since the range varies from 21 - 23 so there is not too much variablity in the blood pressure measurements before the event or treatment compared to after.\")\n",
    "print(100*\"-\")\n",
    "print(\"A larger variance or standard deviation indicates greater dispersion or variability in the blood pressure data.\\n But there is no huge difference in the range so there is little diversity in the blood pressure data\")\n"
   ]
  },
  {
   "attachments": {},
   "cell_type": "markdown",
   "metadata": {},
   "source": [
    "##### b. Calculate mean and 5% confidence interval and plot it in a graph"
   ]
  },
  {
   "cell_type": "code",
   "execution_count": 45,
   "metadata": {},
   "outputs": [
    {
     "data": {
      "image/png": "[encoded data removed]",
      "text/plain": [
       "<Figure size 864x576 with 1 Axes>"
      ]
     },
     "metadata": {
      "needs_background": "light"
     },
     "output_type": "display_data"
    }
   ],
   "source": [
    "# Calculate mean and confidence interval\n",
    "mean_before = df[' Blood Pressure Before (mmHg)'].mean()\n",
    "mean_after = df[' Blood Pressure After (mmHg)'].mean()\n",
    "\n",
    "std_before = df[' Blood Pressure Before (mmHg)'].std()\n",
    "std_after = df[' Blood Pressure After (mmHg)'].std()\n",
    "\n",
    "n = len(df)\n",
    "\n",
    "# For a 5% confidence level, the critical value would be 1.96.\n",
    "\n",
    "confidence_interval_before = 1.96 * (std_before / np.sqrt(n))\n",
    "confidence_interval_after = 1.96 * (std_after / np.sqrt(n))\n",
    "\n",
    "# Plot the results\n",
    "labels = ['Before', 'After']\n",
    "means = [mean_before, mean_after]\n",
    "confidence_intervals = [confidence_interval_before, confidence_interval_after]\n",
    "\n",
    "plt.figure(figsize=(12,8))\n",
    "plt.bar(labels, means, yerr=confidence_intervals, capsize=10,width=0.5,edgecolor=\"black\",color='red')\n",
    "plt.xlabel('Blood Pressure')\n",
    "plt.ylabel('Mean (mmHg)')\n",
    "plt.title('Mean Blood Pressure Before and After')\n",
    "plt.show()\n",
    "\n"
   ]
  },
  {
   "attachments": {},
   "cell_type": "markdown",
   "metadata": {},
   "source": [
    "##### c. Calculate the Mean absolute deviation and Standard deviation and interpret the results"
   ]
  },
  {
   "cell_type": "code",
   "execution_count": 53,
   "metadata": {},
   "outputs": [
    {
     "data": {
      "image/png": "[encoded data removed]",
      "text/plain": [
       "<Figure size 864x576 with 1 Axes>"
      ]
     },
     "metadata": {
      "needs_background": "light"
     },
     "output_type": "display_data"
    },
    {
     "name": "stdout",
     "output_type": "stream",
     "text": [
      "****************************************************************************************************\n",
      "Interpretation before Blood Presure =>\n",
      "The MAD for the 'Blood Pressure Before' data is 5.7118 mmHg,which indicates that, on average, the individual blood pressure measurements deviate from the mean by approximately 5.7118 mmHg.\n",
      "The SD for the 'Blood Pressure Before' data is approximately 6.598278012275075 mmHg, which represents the spread or dispersion of the blood pressure values around the mean.\n",
      "====================================================================================================\n",
      "Interpretation after Blood Presure =>\n",
      "The MAD for the 'Blood Pressure After' data is 5.9 mmHg,which indicates that, on average, the individual blood pressure measurements deviate from the mean by approximately 5.9 mmHg.\n",
      "The SD for the 'Blood Pressure After' data is approximately 6.8880221025232276 mmHg, which represents the spread or dispersion of the blood pressure values around the mean.\n"
     ]
    }
   ],
   "source": [
    "# calculation mean absolute deviation\n",
    "mad_before = df[' Blood Pressure Before (mmHg)'].mad() \n",
    "mad_after = df[' Blood Pressure After (mmHg)'].mad()\n",
    "\n",
    "# calculate standard deviation\n",
    "std_before = df[' Blood Pressure Before (mmHg)'].std()\n",
    "std_after = df[' Blood Pressure After (mmHg)'].std()\n",
    "\n",
    "# Plot the graph\n",
    "labels = ['Before', 'After']\n",
    "std = [std_before, std_after]\n",
    "mad = [mad_before, mad_after]\n",
    "\n",
    "plt.figure(figsize=(12,8))\n",
    "plt.bar(labels, std, yerr=mad, capsize=10,width=0.5,edgecolor=\"black\",color='green')\n",
    "plt.xlabel('Blood Pressure')\n",
    "plt.ylabel('Standard Deviation (mmHg)')\n",
    "plt.title('Blood Pressure Before and After based on Mean Absolute deviation and Standard Deviation')\n",
    "plt.show()\n",
    "\n",
    "print(100*\"*\")\n",
    "print(\"Interpretation before Blood Presure =>\")\n",
    "\n",
    "print(\"The MAD for the 'Blood Pressure Before' data is \" +str(mad_before) + \" mmHg,\" \"which indicates that, on average, the individual blood pressure measurements deviate from the mean by approximately \" +str(mad_before)+ \" mmHg.\")\n",
    "\n",
    "print(\"The SD for the 'Blood Pressure Before' data is approximately \" +str(std_before) + \" mmHg, which represents the spread or dispersion of the blood pressure values around the mean.\")\n",
    "\n",
    "print(100*\"=\")\n",
    "\n",
    "print(\"Interpretation after Blood Presure =>\")\n",
    "\n",
    "print(\"The MAD for the 'Blood Pressure After' data is \" +str(mad_after) + \" mmHg,\" \"which indicates that, on average, the individual blood pressure measurements deviate from the mean by approximately \" +str(mad_after)+ \" mmHg.\")\n",
    "\n",
    "print(\"The SD for the 'Blood Pressure After' data is approximately \" +str(std_after) + \" mmHg, which represents the spread or dispersion of the blood pressure values around the mean.\")\n",
    "\n",
    " \n"
   ]
  },
  {
   "attachments": {},
   "cell_type": "markdown",
   "metadata": {},
   "source": [
    "##### d. Calculate the correlation coefficient and check the significance of it at 1% level of significance."
   ]
  },
  {
   "cell_type": "code",
   "execution_count": 65,
   "metadata": {},
   "outputs": [
    {
     "name": "stdout",
     "output_type": "stream",
     "text": [
      "Coorelation coefficient : 0.9779485966556021\n",
      "P-value : 1.8097381433059708e-68\n",
      "\n",
      "==============Result==============\n",
      "The correlation coefficient between the 'Blood Pressure Before' and 'Blood Pressure After' columns is approximately 0.9779485966556021 .\n",
      "To check the significance of this correlation coefficient at a 1% level of significance,\n",
      "we compare the p-value 1.8097381433059708e-68 to the significance level (0.01).\n",
      "\n",
      "\n",
      "Since the p-value 1.8097381433059708e-68 is less than the significance level (0.01),\n",
      "we reject the null hypothesis that there is no correlation between the two variables.\n",
      "Therefore, the correlation coefficient is statistically significant at a 1% level of significance,\n",
      "indicating a strong positive correlation between the blood pressure before and after.\n"
     ]
    }
   ],
   "source": [
    "# for finding the correlation we have to use pearson correlation\n",
    "from scipy.stats import pearsonr\n",
    "blood_pressure_before = df[' Blood Pressure Before (mmHg)']\n",
    "blood_pressure_after = df[ ' Blood Pressure After (mmHg)']\n",
    "corr , p_value = pearsonr(blood_pressure_before , blood_pressure_after)\n",
    "\n",
    "print(\"Coorelation coefficient : \" + str(corr))\n",
    "print(\"P-value : \" +str(p_value))\n",
    "\n",
    "print(\"\\n==============Result==============\")\n",
    "print(\"The correlation coefficient between the 'Blood Pressure Before' and 'Blood Pressure After' columns is approximately \" +str(corr) + \" .\\nTo check the significance of this correlation coefficient at a 1% level of significance,\\nwe compare the p-value \" + str(p_value) + \" to the significance level (0.01).\")\n",
    "print(\"\\n\")\n",
    "print(\"Since the p-value \" + str(p_value) + \" is less than the significance level (0.01),\\nwe reject the null hypothesis that there is no correlation between the two variables.\\nTherefore, the correlation coefficient is statistically significant at a 1% level of significance,\\nindicating a strong positive correlation between the blood pressure before and after.\")"
   ]
  }
 ],
 "metadata": {
  "kernelspec": {
   "display_name": "base",
   "language": "python",
   "name": "python3"
  },
  "language_info": {
   "codemirror_mode": {
    "name": "ipython",
    "version": 3
   },
   "file_extension": ".py",
   "mimetype": "text/x-python",
   "name": "python",
   "nbconvert_exporter": "python",
   "pygments_lexer": "ipython3",
   "version": "3.8.8"
  },
  "orig_nbformat": 4
 },
 "nbformat": 4,
 "nbformat_minor": 2
}
