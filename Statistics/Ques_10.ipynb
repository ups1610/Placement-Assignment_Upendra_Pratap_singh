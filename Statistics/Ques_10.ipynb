{
 "cells": [
  {
   "attachments": {},
   "cell_type": "markdown",
   "metadata": {},
   "source": [
    "A factory produces light bulbs, and the probability of a bulb being defective is 0.05.\n",
    "The factory produces a large batch of 500 light bulbs.\n",
    "\n",
    "a. What is the probability that exactly 20 bulbs are defective?\n",
    "\n",
    "b. What is the probability that at least 10 bulbs are defective?\n",
    "\n",
    "c. What is the probability that at max 15 bulbs are defective?\n",
    "\n",
    "d. On average, how many defective bulbs would you expect in a batch of 500?"
   ]
  },
  {
   "cell_type": "code",
   "execution_count": 1,
   "metadata": {},
   "outputs": [
    {
     "name": "stdout",
     "output_type": "stream",
     "text": [
      "Probability of exactly 20 bulbs being defective: 0.05161619253663997\n",
      "Probability of at least 10 bulbs being defective: 0.9998316463654902\n",
      "Probability of at most 15 bulbs being defective: 0.019858377163006223\n",
      "Expected number of defective bulbs: 25.0\n"
     ]
    }
   ],
   "source": [
    "from math import comb\n",
    "\n",
    "n = 500  # Total number of bulbs\n",
    "p = 0.05  # Probability of a bulb being defective\n",
    "\n",
    "# a. Probability of exactly 20 bulbs being defective\n",
    "prob_20_defective = comb(n, 20) * (p ** 20) * ((1 - p) ** (n - 20))\n",
    "\n",
    "# b. Probability of at least 10 bulbs being defective\n",
    "prob_at_least_10_defective = 1 - sum(comb(n, i) * (p ** i) * ((1 - p) ** (n - i)) for i in range(10))\n",
    "\n",
    "# c. Probability of at most 15 bulbs being defective\n",
    "prob_at_most_15_defective = sum(comb(n, i) * (p ** i) * ((1 - p) ** (n - i)) for i in range(16))\n",
    "\n",
    "# d. Expected number of defective bulbs\n",
    "expected_defective = n * p\n",
    "\n",
    "print(\"Probability of exactly 20 bulbs being defective:\", prob_20_defective)\n",
    "print(\"Probability of at least 10 bulbs being defective:\", prob_at_least_10_defective)\n",
    "print(\"Probability of at most 15 bulbs being defective:\", prob_at_most_15_defective)\n",
    "print(\"Expected number of defective bulbs:\", expected_defective)\n"
   ]
  }
 ],
 "metadata": {
  "kernelspec": {
   "display_name": "base",
   "language": "python",
   "name": "python3"
  },
  "language_info": {
   "codemirror_mode": {
    "name": "ipython",
    "version": 3
   },
   "file_extension": ".py",
   "mimetype": "text/x-python",
   "name": "python",
   "nbconvert_exporter": "python",
   "pygments_lexer": "ipython3",
   "version": "3.8.8"
  },
  "orig_nbformat": 4
 },
 "nbformat": 4,
 "nbformat_minor": 2
}
