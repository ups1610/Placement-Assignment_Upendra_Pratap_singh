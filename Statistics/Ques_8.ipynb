{
 "cells": [
  {
   "cell_type": "code",
   "execution_count": 2,
   "metadata": {},
   "outputs": [
    {
     "name": "stdout",
     "output_type": "stream",
     "text": [
      "Accept the null hypothesis\n"
     ]
    }
   ],
   "source": [
    "# perform the Wilcoxon signed-rank test\n",
    "import scipy.stats as stats\n",
    "# collect the data from the question\n",
    "before_therapy = [10,8,12,15,6,9,11,7,14,10]\n",
    "after_therapy = [7,6,10,12,5,8,9,6,12,8]\n",
    "corr_ , p_value = stats.wilcoxon(before_therapy,after_therapy)\n",
    "\n",
    "if p_value < 0.05:\n",
    "    print(\"Accept the null hypothesis\")\n",
    "else:\n",
    "    print(\"Reject the null hypothesis\")    \n"
   ]
  }
 ],
 "metadata": {
  "kernelspec": {
   "display_name": "base",
   "language": "python",
   "name": "python3"
  },
  "language_info": {
   "codemirror_mode": {
    "name": "ipython",
    "version": 3
   },
   "file_extension": ".py",
   "mimetype": "text/x-python",
   "name": "python",
   "nbconvert_exporter": "python",
   "pygments_lexer": "ipython3",
   "version": "3.8.8"
  },
  "orig_nbformat": 4
 },
 "nbformat": 4,
 "nbformat_minor": 2
}
