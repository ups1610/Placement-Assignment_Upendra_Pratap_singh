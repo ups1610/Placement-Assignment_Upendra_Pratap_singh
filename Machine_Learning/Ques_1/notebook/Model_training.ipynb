{
 "cells": [
  {
   "cell_type": "code",
   "execution_count": 58,
   "metadata": {},
   "outputs": [],
   "source": [
    "#import useful libraries\n",
    "import pandas as pd\n",
    "import numpy as np\n",
    "from sklearn.model_selection import train_test_split\n",
    "from sklearn.impute import SimpleImputer ## Handling Missing Values\n",
    "from sklearn.preprocessing import StandardScaler # Handling Feature Scaling\n",
    "from sklearn.preprocessing import OneHotEncoder\n",
    "## pipelines\n",
    "from sklearn.pipeline import Pipeline\n",
    "from sklearn.compose import ColumnTransformer"
   ]
  },
  {
   "attachments": {},
   "cell_type": "markdown",
   "metadata": {},
   "source": [
    "## Model training to predict the number of likes"
   ]
  },
  {
   "cell_type": "code",
   "execution_count": 59,
   "metadata": {},
   "outputs": [
    {
     "data": {
      "text/html": [
       "<div>\n",
       "<style scoped>\n",
       "    .dataframe tbody tr th:only-of-type {\n",
       "        vertical-align: middle;\n",
       "    }\n",
       "\n",
       "    .dataframe tbody tr th {\n",
       "        vertical-align: top;\n",
       "    }\n",
       "\n",
       "    .dataframe thead th {\n",
       "        text-align: right;\n",
       "    }\n",
       "</style>\n",
       "<table border=\"1\" class=\"dataframe\">\n",
       "  <thead>\n",
       "    <tr style=\"text-align: right;\">\n",
       "      <th></th>\n",
       "      <th>Unnamed: 0</th>\n",
       "      <th>S.No</th>\n",
       "      <th>USERNAME</th>\n",
       "      <th>Caption</th>\n",
       "      <th>Followers</th>\n",
       "      <th>Hashtags</th>\n",
       "      <th>Time since posted</th>\n",
       "      <th>Likes</th>\n",
       "    </tr>\n",
       "  </thead>\n",
       "  <tbody>\n",
       "    <tr>\n",
       "      <th>0</th>\n",
       "      <td>0</td>\n",
       "      <td>1</td>\n",
       "      <td>mikequindazzi</td>\n",
       "      <td>Who are #DataScientist and what do they do? &gt;&gt;...</td>\n",
       "      <td>1600</td>\n",
       "      <td>#MachineLearning #AI #DataAnalytics #DataScien...</td>\n",
       "      <td>11</td>\n",
       "      <td>139</td>\n",
       "    </tr>\n",
       "    <tr>\n",
       "      <th>1</th>\n",
       "      <td>1</td>\n",
       "      <td>2</td>\n",
       "      <td>drgorillapaints</td>\n",
       "      <td>We all know where it’s going. We just have to ...</td>\n",
       "      <td>880</td>\n",
       "      <td>#deck .#mac #macintosh#sayhello #apple #steve...</td>\n",
       "      <td>2</td>\n",
       "      <td>23</td>\n",
       "    </tr>\n",
       "    <tr>\n",
       "      <th>2</th>\n",
       "      <td>2</td>\n",
       "      <td>3</td>\n",
       "      <td>aitrading_official</td>\n",
       "      <td>Alexander Barinov: 4 years as CFO in multinati...</td>\n",
       "      <td>255</td>\n",
       "      <td>#whoiswho #aitrading #ai #aitradingteam#instat...</td>\n",
       "      <td>2</td>\n",
       "      <td>25</td>\n",
       "    </tr>\n",
       "    <tr>\n",
       "      <th>3</th>\n",
       "      <td>3</td>\n",
       "      <td>4</td>\n",
       "      <td>opensourcedworkplace</td>\n",
       "      <td>sfad</td>\n",
       "      <td>340</td>\n",
       "      <td>#iot #cre#workplace #CDO #bigdata #technology#...</td>\n",
       "      <td>3</td>\n",
       "      <td>49</td>\n",
       "    </tr>\n",
       "    <tr>\n",
       "      <th>4</th>\n",
       "      <td>4</td>\n",
       "      <td>5</td>\n",
       "      <td>crea.vision</td>\n",
       "      <td>Ever missed a call while your phone was chargi...</td>\n",
       "      <td>304</td>\n",
       "      <td>#instamachinelearning #instabigdata#instamarke...</td>\n",
       "      <td>3</td>\n",
       "      <td>30</td>\n",
       "    </tr>\n",
       "  </tbody>\n",
       "</table>\n",
       "</div>"
      ],
      "text/plain": [
       "   Unnamed: 0  S.No              USERNAME  \\\n",
       "0           0     1         mikequindazzi   \n",
       "1           1     2       drgorillapaints   \n",
       "2           2     3    aitrading_official   \n",
       "3           3     4  opensourcedworkplace   \n",
       "4           4     5           crea.vision   \n",
       "\n",
       "                                             Caption  Followers  \\\n",
       "0  Who are #DataScientist and what do they do? >>...       1600   \n",
       "1  We all know where it’s going. We just have to ...        880   \n",
       "2  Alexander Barinov: 4 years as CFO in multinati...        255   \n",
       "3                                               sfad        340   \n",
       "4  Ever missed a call while your phone was chargi...        304   \n",
       "\n",
       "                                            Hashtags  Time since posted  Likes  \n",
       "0  #MachineLearning #AI #DataAnalytics #DataScien...                 11    139  \n",
       "1   #deck .#mac #macintosh#sayhello #apple #steve...                  2     23  \n",
       "2  #whoiswho #aitrading #ai #aitradingteam#instat...                  2     25  \n",
       "3  #iot #cre#workplace #CDO #bigdata #technology#...                  3     49  \n",
       "4  #instamachinelearning #instabigdata#instamarke...                  3     30  "
      ]
     },
     "execution_count": 59,
     "metadata": {},
     "output_type": "execute_result"
    }
   ],
   "source": [
    "#load the data\n",
    "df = pd.read_csv(\"data/preprocessed_data.csv\")\n",
    "df.head()"
   ]
  },
  {
   "cell_type": "code",
   "execution_count": 60,
   "metadata": {},
   "outputs": [],
   "source": [
    "# Select the relevant features and target variables\n",
    "\n",
    "features = ['USERNAME', 'Caption', 'Hashtags', 'Followers','Time since posted']\n",
    "target_likes = 'Likes'\n",
    "target_time_since_posted = 'Time since posted'"
   ]
  },
  {
   "cell_type": "code",
   "execution_count": 61,
   "metadata": {},
   "outputs": [],
   "source": [
    "# Split the data into training and testing sets\n",
    "\n",
    "X = df[features]\n",
    "y_likes = df[target_likes]\n",
    "# y_time_since_posted = df[target_time_since_posted]\n",
    "\n",
    "X_train,X_test,y_likes_train,y_likes_test= train_test_split(X, y_likes, test_size=0.2, random_state=42)"
   ]
  },
  {
   "cell_type": "code",
   "execution_count": 62,
   "metadata": {},
   "outputs": [
    {
     "name": "stdout",
     "output_type": "stream",
     "text": [
      "X_train (94, 5)\n",
      "X_test (19, 5)\n"
     ]
    }
   ],
   "source": [
    "print(\"X_train\",X.shape)\n",
    "print(\"X_test\",X_test.shape)"
   ]
  },
  {
   "cell_type": "code",
   "execution_count": 88,
   "metadata": {},
   "outputs": [
    {
     "name": "stdout",
     "output_type": "stream",
     "text": [
      "Index(['USERNAME', 'Caption', 'Hashtags'], dtype='object')\n",
      "Index(['Followers', 'Likes'], dtype='object')\n"
     ]
    }
   ],
   "source": [
    "# Define which columns should be ordinal-encoded and which should be scaled\n",
    "categorical_cols = X.select_dtypes(include='object').columns\n",
    "numerical_cols = X.select_dtypes(exclude='object').columns\n",
    "print(categorical_cols)\n",
    "print(numerical_cols)"
   ]
  },
  {
   "cell_type": "code",
   "execution_count": 64,
   "metadata": {},
   "outputs": [],
   "source": [
    "## Numerical Pipeline\n",
    "num_pipeline=Pipeline(\n",
    "    steps=[\n",
    "    ('imputer',SimpleImputer(strategy='median')),\n",
    "    ('scaler',StandardScaler())\n",
    "\n",
    "    ]\n",
    "\n",
    ")\n",
    "\n",
    "# Categorigal Pipeline\n",
    "cat_pipeline=Pipeline(\n",
    "    steps=[\n",
    "    ('imputer',SimpleImputer(strategy='most_frequent')),\n",
    "    ('onehotencoder',OneHotEncoder(sparse=False, handle_unknown='ignore')),\n",
    "    ('scaler',StandardScaler())\n",
    "    ]\n",
    "\n",
    ")\n",
    "\n",
    "preprocessor=ColumnTransformer([\n",
    "('num_pipeline',num_pipeline,numerical_cols),\n",
    "('cat_pipeline',cat_pipeline,categorical_cols)\n",
    "])"
   ]
  },
  {
   "cell_type": "code",
   "execution_count": 65,
   "metadata": {},
   "outputs": [
    {
     "name": "stderr",
     "output_type": "stream",
     "text": [
      "e:\\placement_assignment\\Machine_Learning\\Ques_1\\ques_1\\lib\\site-packages\\sklearn\\preprocessing\\_encoders.py:868: FutureWarning: `sparse` was renamed to `sparse_output` in version 1.2 and will be removed in 1.4. `sparse_output` is ignored unless you leave `sparse` to its default value.\n",
      "  warnings.warn(\n"
     ]
    }
   ],
   "source": [
    "#  preprocess the data based on pipleline\n",
    "X_train=pd.DataFrame(preprocessor.fit_transform(X_train),columns=preprocessor.get_feature_names_out())\n",
    "X_test=pd.DataFrame(preprocessor.transform(X_test),columns=preprocessor.get_feature_names_out())"
   ]
  },
  {
   "cell_type": "code",
   "execution_count": 66,
   "metadata": {},
   "outputs": [
    {
     "data": {
      "text/html": [
       "<div>\n",
       "<style scoped>\n",
       "    .dataframe tbody tr th:only-of-type {\n",
       "        vertical-align: middle;\n",
       "    }\n",
       "\n",
       "    .dataframe tbody tr th {\n",
       "        vertical-align: top;\n",
       "    }\n",
       "\n",
       "    .dataframe thead th {\n",
       "        text-align: right;\n",
       "    }\n",
       "</style>\n",
       "<table border=\"1\" class=\"dataframe\">\n",
       "  <thead>\n",
       "    <tr style=\"text-align: right;\">\n",
       "      <th></th>\n",
       "      <th>num_pipeline__Followers</th>\n",
       "      <th>num_pipeline__Time since posted</th>\n",
       "      <th>cat_pipeline__USERNAME__ehab.othman_</th>\n",
       "      <th>cat_pipeline__USERNAME__linda_smith567</th>\n",
       "      <th>cat_pipeline__USERNAME_ah_studio_</th>\n",
       "      <th>cat_pipeline__USERNAME_aitrading_official</th>\n",
       "      <th>cat_pipeline__USERNAME_ale_borba</th>\n",
       "      <th>cat_pipeline__USERNAME_alpha_mentor_</th>\n",
       "      <th>cat_pipeline__USERNAME_anki7singh</th>\n",
       "      <th>cat_pipeline__USERNAME_ansonmccade</th>\n",
       "      <th>...</th>\n",
       "      <th>cat_pipeline__Hashtags_#weekend #chill #chilling #Summer#founder #startup #smallbusiness #smallbiz#contentmarketing #consulting</th>\n",
       "      <th>cat_pipeline__Hashtags_#whoiswho #aitrading #ai #aitradingteam#instateam #instapeople #ai #trading#artificialintelligence #crypto#cryptocurrency #blockchain #tradingforex#forex #fiatmoney #coins #machinelearning#userexperience #instamachinelearning#instabigdata #instamarketing#artificialintelligence #deeplearning#datascience #industry #marketing#bigdata #datascience #machinelearning#ml</th>\n",
       "      <th>cat_pipeline__Hashtags_#worldcode #coding#python #codeaholics #rstudio #codinglife#worldofprogrammers #datascience#machinelearning #dataviz #data #statistics#macbookpro #peoplewhocode#codeismylife #datavisualization#artificialintelligence #digitalnomads#digitalnomad #travel</th>\n",
       "      <th>cat_pipeline__Hashtags_#youtube #applemusic #itunes#soundcloud #spinrilla #spotify #bigdata#blockchain #dontbandwagonlater</th>\n",
       "      <th>cat_pipeline__Hashtags_#любовь #gm #sme #smenigeria #profits#businessowners #businessplan#entrepreneurship #entrepreneur#blockchain #crypto #cointelegraph#bitcoinprice #mining #cryptocurrencies#bch #bitcoins #litecoin #investment#investor #stockmarket #stocks #getrich#makemoney #makemoneyonline#mentorship #mentoring #xrp #bitfinex#altcoins</th>\n",
       "      <th>cat_pipeline__Hashtags_.#Tech #virtualreality #IoT #Machinelearning</th>\n",
       "      <th>cat_pipeline__Hashtags_[#Infographic] #Wearable #Sensors #MachineLearning#IoT #BigData #DigitalTransformation#futureofwork #marketing #analytics#bigdata #Cloud #Blogging#ContentMarketing #DigitalMarketing ht: #BigData #MachineLearning #AI #IoT#infograp</th>\n",
       "      <th>cat_pipeline__Hashtags_thebeautymindset#businessman#quoteoftheday #businessowner#businesswoman #success #grind#motivation #motivational #lifestyle#happiness #entrepreneurs#entrepreneurlife #business #working #founder#startup #money #magazine #moneymaker#startuplife #successful #passion #inspiredaily#hardwork #hardworkpaysoff #desire</th>\n",
       "      <th>cat_pipeline__Hashtags_ #datascience #data #tech #technology#future #machinelearning #ai#visualizations #dataisbeautiful</th>\n",
       "      <th>cat_pipeline__Hashtags_ #deck .#mac #macintosh#sayhello #apple #stevejobs #ai #evolution#artificialintelligence #machinelearning#terminator #illbeback #technology#computerevolution #computerscience#sciencefiction#computersciencetosciencefiction#tomorrowstechnology #vr #ar #robot#robots #t2 #businessdeck #businessslides#illustration #sketches #drawing</th>\n",
       "    </tr>\n",
       "  </thead>\n",
       "  <tbody>\n",
       "    <tr>\n",
       "      <th>0</th>\n",
       "      <td>-0.768162</td>\n",
       "      <td>-0.388968</td>\n",
       "      <td>-0.116248</td>\n",
       "      <td>-0.116248</td>\n",
       "      <td>-0.116248</td>\n",
       "      <td>-0.116248</td>\n",
       "      <td>-0.116248</td>\n",
       "      <td>-0.116248</td>\n",
       "      <td>-0.116248</td>\n",
       "      <td>-0.116248</td>\n",
       "      <td>...</td>\n",
       "      <td>-0.116248</td>\n",
       "      <td>-0.116248</td>\n",
       "      <td>-0.116248</td>\n",
       "      <td>-0.116248</td>\n",
       "      <td>-0.116248</td>\n",
       "      <td>-0.116248</td>\n",
       "      <td>-0.116248</td>\n",
       "      <td>8.602325</td>\n",
       "      <td>-0.116248</td>\n",
       "      <td>-0.116248</td>\n",
       "    </tr>\n",
       "    <tr>\n",
       "      <th>1</th>\n",
       "      <td>-0.014088</td>\n",
       "      <td>-0.100130</td>\n",
       "      <td>-0.116248</td>\n",
       "      <td>-0.116248</td>\n",
       "      <td>-0.116248</td>\n",
       "      <td>-0.116248</td>\n",
       "      <td>-0.116248</td>\n",
       "      <td>-0.116248</td>\n",
       "      <td>-0.116248</td>\n",
       "      <td>-0.116248</td>\n",
       "      <td>...</td>\n",
       "      <td>-0.116248</td>\n",
       "      <td>-0.116248</td>\n",
       "      <td>-0.116248</td>\n",
       "      <td>-0.116248</td>\n",
       "      <td>-0.116248</td>\n",
       "      <td>-0.116248</td>\n",
       "      <td>-0.116248</td>\n",
       "      <td>-0.116248</td>\n",
       "      <td>-0.116248</td>\n",
       "      <td>-0.116248</td>\n",
       "    </tr>\n",
       "    <tr>\n",
       "      <th>2</th>\n",
       "      <td>0.196501</td>\n",
       "      <td>-0.388968</td>\n",
       "      <td>-0.116248</td>\n",
       "      <td>-0.116248</td>\n",
       "      <td>-0.116248</td>\n",
       "      <td>-0.116248</td>\n",
       "      <td>-0.116248</td>\n",
       "      <td>-0.116248</td>\n",
       "      <td>-0.116248</td>\n",
       "      <td>-0.116248</td>\n",
       "      <td>...</td>\n",
       "      <td>8.602325</td>\n",
       "      <td>-0.116248</td>\n",
       "      <td>-0.116248</td>\n",
       "      <td>-0.116248</td>\n",
       "      <td>-0.116248</td>\n",
       "      <td>-0.116248</td>\n",
       "      <td>-0.116248</td>\n",
       "      <td>-0.116248</td>\n",
       "      <td>-0.116248</td>\n",
       "      <td>-0.116248</td>\n",
       "    </tr>\n",
       "    <tr>\n",
       "      <th>3</th>\n",
       "      <td>-0.129958</td>\n",
       "      <td>-0.388968</td>\n",
       "      <td>-0.116248</td>\n",
       "      <td>-0.116248</td>\n",
       "      <td>-0.116248</td>\n",
       "      <td>-0.116248</td>\n",
       "      <td>-0.116248</td>\n",
       "      <td>-0.116248</td>\n",
       "      <td>-0.116248</td>\n",
       "      <td>-0.116248</td>\n",
       "      <td>...</td>\n",
       "      <td>-0.116248</td>\n",
       "      <td>-0.116248</td>\n",
       "      <td>-0.116248</td>\n",
       "      <td>-0.116248</td>\n",
       "      <td>-0.116248</td>\n",
       "      <td>-0.116248</td>\n",
       "      <td>-0.116248</td>\n",
       "      <td>-0.116248</td>\n",
       "      <td>-0.116248</td>\n",
       "      <td>-0.116248</td>\n",
       "    </tr>\n",
       "    <tr>\n",
       "      <th>4</th>\n",
       "      <td>-0.145591</td>\n",
       "      <td>-0.388968</td>\n",
       "      <td>-0.116248</td>\n",
       "      <td>-0.116248</td>\n",
       "      <td>-0.116248</td>\n",
       "      <td>-0.116248</td>\n",
       "      <td>-0.116248</td>\n",
       "      <td>-0.116248</td>\n",
       "      <td>-0.116248</td>\n",
       "      <td>-0.116248</td>\n",
       "      <td>...</td>\n",
       "      <td>-0.116248</td>\n",
       "      <td>-0.116248</td>\n",
       "      <td>-0.116248</td>\n",
       "      <td>-0.116248</td>\n",
       "      <td>-0.116248</td>\n",
       "      <td>-0.116248</td>\n",
       "      <td>-0.116248</td>\n",
       "      <td>-0.116248</td>\n",
       "      <td>-0.116248</td>\n",
       "      <td>-0.116248</td>\n",
       "    </tr>\n",
       "  </tbody>\n",
       "</table>\n",
       "<p>5 rows × 225 columns</p>\n",
       "</div>"
      ],
      "text/plain": [
       "   num_pipeline__Followers  num_pipeline__Time since posted  \\\n",
       "0                -0.768162                        -0.388968   \n",
       "1                -0.014088                        -0.100130   \n",
       "2                 0.196501                        -0.388968   \n",
       "3                -0.129958                        -0.388968   \n",
       "4                -0.145591                        -0.388968   \n",
       "\n",
       "   cat_pipeline__USERNAME__ehab.othman_  \\\n",
       "0                             -0.116248   \n",
       "1                             -0.116248   \n",
       "2                             -0.116248   \n",
       "3                             -0.116248   \n",
       "4                             -0.116248   \n",
       "\n",
       "   cat_pipeline__USERNAME__linda_smith567  cat_pipeline__USERNAME_ah_studio_  \\\n",
       "0                               -0.116248                          -0.116248   \n",
       "1                               -0.116248                          -0.116248   \n",
       "2                               -0.116248                          -0.116248   \n",
       "3                               -0.116248                          -0.116248   \n",
       "4                               -0.116248                          -0.116248   \n",
       "\n",
       "   cat_pipeline__USERNAME_aitrading_official  \\\n",
       "0                                  -0.116248   \n",
       "1                                  -0.116248   \n",
       "2                                  -0.116248   \n",
       "3                                  -0.116248   \n",
       "4                                  -0.116248   \n",
       "\n",
       "   cat_pipeline__USERNAME_ale_borba  cat_pipeline__USERNAME_alpha_mentor_  \\\n",
       "0                         -0.116248                             -0.116248   \n",
       "1                         -0.116248                             -0.116248   \n",
       "2                         -0.116248                             -0.116248   \n",
       "3                         -0.116248                             -0.116248   \n",
       "4                         -0.116248                             -0.116248   \n",
       "\n",
       "   cat_pipeline__USERNAME_anki7singh  cat_pipeline__USERNAME_ansonmccade  ...  \\\n",
       "0                          -0.116248                           -0.116248  ...   \n",
       "1                          -0.116248                           -0.116248  ...   \n",
       "2                          -0.116248                           -0.116248  ...   \n",
       "3                          -0.116248                           -0.116248  ...   \n",
       "4                          -0.116248                           -0.116248  ...   \n",
       "\n",
       "   cat_pipeline__Hashtags_#weekend #chill #chilling #Summer#founder #startup #smallbusiness #smallbiz#contentmarketing #consulting  \\\n",
       "0                                          -0.116248                                                                                 \n",
       "1                                          -0.116248                                                                                 \n",
       "2                                           8.602325                                                                                 \n",
       "3                                          -0.116248                                                                                 \n",
       "4                                          -0.116248                                                                                 \n",
       "\n",
       "   cat_pipeline__Hashtags_#whoiswho #aitrading #ai #aitradingteam#instateam #instapeople #ai #trading#artificialintelligence #crypto#cryptocurrency #blockchain #tradingforex#forex #fiatmoney #coins #machinelearning#userexperience #instamachinelearning#instabigdata #instamarketing#artificialintelligence #deeplearning#datascience #industry #marketing#bigdata #datascience #machinelearning#ml  \\\n",
       "0                                          -0.116248                                                                                                                                                                                                                                                                                                                                                      \n",
       "1                                          -0.116248                                                                                                                                                                                                                                                                                                                                                      \n",
       "2                                          -0.116248                                                                                                                                                                                                                                                                                                                                                      \n",
       "3                                          -0.116248                                                                                                                                                                                                                                                                                                                                                      \n",
       "4                                          -0.116248                                                                                                                                                                                                                                                                                                                                                      \n",
       "\n",
       "   cat_pipeline__Hashtags_#worldcode #coding#python #codeaholics #rstudio #codinglife#worldofprogrammers #datascience#machinelearning #dataviz #data #statistics#macbookpro #peoplewhocode#codeismylife #datavisualization#artificialintelligence #digitalnomads#digitalnomad #travel  \\\n",
       "0                                          -0.116248                                                                                                                                                                                                                                    \n",
       "1                                          -0.116248                                                                                                                                                                                                                                    \n",
       "2                                          -0.116248                                                                                                                                                                                                                                    \n",
       "3                                          -0.116248                                                                                                                                                                                                                                    \n",
       "4                                          -0.116248                                                                                                                                                                                                                                    \n",
       "\n",
       "   cat_pipeline__Hashtags_#youtube #applemusic #itunes#soundcloud #spinrilla #spotify #bigdata#blockchain #dontbandwagonlater  \\\n",
       "0                                          -0.116248                                                                            \n",
       "1                                          -0.116248                                                                            \n",
       "2                                          -0.116248                                                                            \n",
       "3                                          -0.116248                                                                            \n",
       "4                                          -0.116248                                                                            \n",
       "\n",
       "   cat_pipeline__Hashtags_#любовь #gm #sme #smenigeria #profits#businessowners #businessplan#entrepreneurship #entrepreneur#blockchain #crypto #cointelegraph#bitcoinprice #mining #cryptocurrencies#bch #bitcoins #litecoin #investment#investor #stockmarket #stocks #getrich#makemoney #makemoneyonline#mentorship #mentoring #xrp #bitfinex#altcoins  \\\n",
       "0                                          -0.116248                                                                                                                                                                                                                                                                                                       \n",
       "1                                          -0.116248                                                                                                                                                                                                                                                                                                       \n",
       "2                                          -0.116248                                                                                                                                                                                                                                                                                                       \n",
       "3                                          -0.116248                                                                                                                                                                                                                                                                                                       \n",
       "4                                          -0.116248                                                                                                                                                                                                                                                                                                       \n",
       "\n",
       "   cat_pipeline__Hashtags_.#Tech\n",
       "#virtualreality\n",
       "#IoT\n",
       "#Machinelearning  \\\n",
       "0                                          -0.116248                     \n",
       "1                                          -0.116248                     \n",
       "2                                          -0.116248                     \n",
       "3                                          -0.116248                     \n",
       "4                                          -0.116248                     \n",
       "\n",
       "   cat_pipeline__Hashtags_[#Infographic] #Wearable #Sensors #MachineLearning#IoT #BigData #DigitalTransformation#futureofwork #marketing #analytics#bigdata #Cloud #Blogging#ContentMarketing #DigitalMarketing ht: #BigData #MachineLearning #AI #IoT#infograp  \\\n",
       "0                                          -0.116248                                                                                                                                                                                                              \n",
       "1                                          -0.116248                                                                                                                                                                                                              \n",
       "2                                          -0.116248                                                                                                                                                                                                              \n",
       "3                                          -0.116248                                                                                                                                                                                                              \n",
       "4                                          -0.116248                                                                                                                                                                                                              \n",
       "\n",
       "   cat_pipeline__Hashtags_thebeautymindset#businessman#quoteoftheday #businessowner#businesswoman #success #grind#motivation #motivational #lifestyle#happiness #entrepreneurs#entrepreneurlife #business #working #founder#startup #money #magazine #moneymaker#startuplife #successful #passion #inspiredaily#hardwork #hardworkpaysoff #desire  \\\n",
       "0                                           8.602325                                                                                                                                                                                                                                                                                                \n",
       "1                                          -0.116248                                                                                                                                                                                                                                                                                                \n",
       "2                                          -0.116248                                                                                                                                                                                                                                                                                                \n",
       "3                                          -0.116248                                                                                                                                                                                                                                                                                                \n",
       "4                                          -0.116248                                                                                                                                                                                                                                                                                                \n",
       "\n",
       "   cat_pipeline__Hashtags_ #datascience #data #tech #technology#future #machinelearning #ai#visualizations #dataisbeautiful  \\\n",
       "0                                          -0.116248                                                                          \n",
       "1                                          -0.116248                                                                          \n",
       "2                                          -0.116248                                                                          \n",
       "3                                          -0.116248                                                                          \n",
       "4                                          -0.116248                                                                          \n",
       "\n",
       "   cat_pipeline__Hashtags_ #deck .#mac #macintosh#sayhello #apple #stevejobs #ai #evolution#artificialintelligence #machinelearning#terminator #illbeback #technology#computerevolution #computerscience#sciencefiction#computersciencetosciencefiction#tomorrowstechnology #vr #ar #robot#robots #t2 #businessdeck #businessslides#illustration #sketches #drawing  \n",
       "0                                          -0.116248                                                                                                                                                                                                                                                                                                                 \n",
       "1                                          -0.116248                                                                                                                                                                                                                                                                                                                 \n",
       "2                                          -0.116248                                                                                                                                                                                                                                                                                                                 \n",
       "3                                          -0.116248                                                                                                                                                                                                                                                                                                                 \n",
       "4                                          -0.116248                                                                                                                                                                                                                                                                                                                 \n",
       "\n",
       "[5 rows x 225 columns]"
      ]
     },
     "execution_count": 66,
     "metadata": {},
     "output_type": "execute_result"
    }
   ],
   "source": [
    "X_train.head()"
   ]
  },
  {
   "cell_type": "code",
   "execution_count": 67,
   "metadata": {},
   "outputs": [],
   "source": [
    "## Model Training\n",
    "\n",
    "from sklearn.linear_model import LinearRegression,Lasso,Ridge,ElasticNet\n",
    "from sklearn.metrics import r2_score,mean_absolute_error,mean_squared_error"
   ]
  },
  {
   "attachments": {},
   "cell_type": "markdown",
   "metadata": {},
   "source": [
    "##### Training a model to predict the number of likes:"
   ]
  },
  {
   "cell_type": "code",
   "execution_count": 68,
   "metadata": {},
   "outputs": [],
   "source": [
    "def evaluate_model(true, predicted):\n",
    "    mae = mean_absolute_error(true, predicted)\n",
    "    mse = mean_squared_error(true, predicted)\n",
    "    rmse = np.sqrt(mean_squared_error(true, predicted))\n",
    "    r2_square = r2_score(true, predicted)\n",
    "    return mae, rmse, r2_square"
   ]
  },
  {
   "cell_type": "code",
   "execution_count": 69,
   "metadata": {},
   "outputs": [
    {
     "name": "stdout",
     "output_type": "stream",
     "text": [
      "LinearRegression\n",
      "Model Training Performance\n",
      "RMSE: 36.84756629422695\n",
      "MAE: 29.439111032721605\n",
      "R2 score 14.937232879251983\n",
      "===================================\n",
      "\n",
      "\n",
      "Lasso\n",
      "Model Training Performance\n",
      "RMSE: 29.295872384603527\n",
      "MAE: 18.162563644953853\n",
      "R2 score 46.23065341855032\n",
      "===================================\n",
      "\n",
      "\n",
      "Ridge\n",
      "Model Training Performance\n",
      "RMSE: 36.135333618013746\n",
      "MAE: 28.318453667285354\n",
      "R2 score 18.193836481052127\n",
      "===================================\n",
      "\n",
      "\n",
      "Elasticnet\n",
      "Model Training Performance\n",
      "RMSE: 35.506145619304036\n",
      "MAE: 24.48361976163034\n",
      "R2 score 21.017850597196265\n",
      "===================================\n",
      "\n",
      "\n"
     ]
    }
   ],
   "source": [
    "\n",
    "models={\n",
    "    'LinearRegression':LinearRegression(),\n",
    "    'Lasso':Lasso(),\n",
    "    'Ridge':Ridge(),\n",
    "    'Elasticnet':ElasticNet()\n",
    "}\n",
    "trained_model_list=[]\n",
    "model_list=[]\n",
    "r2_list=[]\n",
    "\n",
    "for i in range(len(list(models))):\n",
    "    model=list(models.values())[i]\n",
    "    model.fit(X_train,y_likes_train)\n",
    "\n",
    "    #Make Predictions\n",
    "    y_pred=model.predict(X_test)\n",
    "\n",
    "    mae, rmse, r2_square=evaluate_model(y_likes_test,y_pred)\n",
    "\n",
    "    print(list(models.keys())[i])\n",
    "    model_list.append(list(models.keys())[i])\n",
    "\n",
    "    print('Model Training Performance')\n",
    "    print(\"RMSE:\",rmse)\n",
    "    print(\"MAE:\",mae)\n",
    "    print(\"R2 score\",r2_square*100)\n",
    "\n",
    "    r2_list.append(r2_square)\n",
    "    \n",
    "    print('='*35)\n",
    "    print('\\n')"
   ]
  },
  {
   "cell_type": "code",
   "execution_count": 70,
   "metadata": {},
   "outputs": [],
   "source": [
    "# training with xg-boost\n",
    "import xgboost as xgb\n",
    "from xgboost import XGBRegressor\n",
    "from sklearn.metrics import accuracy_score\n",
    "from sklearn.preprocessing import LabelEncoder"
   ]
  },
  {
   "cell_type": "code",
   "execution_count": 71,
   "metadata": {},
   "outputs": [],
   "source": [
    "# fit model no training data\n",
    "le = LabelEncoder()\n",
    "ylabel_likes_train = le.fit_transform(y_likes_train)"
   ]
  },
  {
   "cell_type": "code",
   "execution_count": 72,
   "metadata": {},
   "outputs": [],
   "source": [
    "ylabel_likes_test = le.fit_transform(y_likes_test)"
   ]
  },
  {
   "cell_type": "code",
   "execution_count": 73,
   "metadata": {},
   "outputs": [],
   "source": [
    "import re\n",
    "\n",
    "regex = re.compile(r\"\\[|\\]|<\", re.IGNORECASE)\n",
    "\n",
    "X_train.columns = [regex.sub(\"_\", col) if any(x in str(col) for x in set(('[', ']', '<'))) else col for col in X_train.columns.values]\n",
    "X_test.columns = [regex.sub(\"_\", col) if any(x in str(col) for x in set(('[', ']', '<'))) else col for col in X_test.columns.values]"
   ]
  },
  {
   "cell_type": "code",
   "execution_count": 74,
   "metadata": {},
   "outputs": [
    {
     "data": {
      "text/html": [
       "<style>#sk-container-id-4 {color: black;background-color: white;}#sk-container-id-4 pre{padding: 0;}#sk-container-id-4 div.sk-toggleable {background-color: white;}#sk-container-id-4 label.sk-toggleable__label {cursor: pointer;display: block;width: 100%;margin-bottom: 0;padding: 0.3em;box-sizing: border-box;text-align: center;}#sk-container-id-4 label.sk-toggleable__label-arrow:before {content: \"▸\";float: left;margin-right: 0.25em;color: #696969;}#sk-container-id-4 label.sk-toggleable__label-arrow:hover:before {color: black;}#sk-container-id-4 div.sk-estimator:hover label.sk-toggleable__label-arrow:before {color: black;}#sk-container-id-4 div.sk-toggleable__content {max-height: 0;max-width: 0;overflow: hidden;text-align: left;background-color: #f0f8ff;}#sk-container-id-4 div.sk-toggleable__content pre {margin: 0.2em;color: black;border-radius: 0.25em;background-color: #f0f8ff;}#sk-container-id-4 input.sk-toggleable__control:checked~div.sk-toggleable__content {max-height: 200px;max-width: 100%;overflow: auto;}#sk-container-id-4 input.sk-toggleable__control:checked~label.sk-toggleable__label-arrow:before {content: \"▾\";}#sk-container-id-4 div.sk-estimator input.sk-toggleable__control:checked~label.sk-toggleable__label {background-color: #d4ebff;}#sk-container-id-4 div.sk-label input.sk-toggleable__control:checked~label.sk-toggleable__label {background-color: #d4ebff;}#sk-container-id-4 input.sk-hidden--visually {border: 0;clip: rect(1px 1px 1px 1px);clip: rect(1px, 1px, 1px, 1px);height: 1px;margin: -1px;overflow: hidden;padding: 0;position: absolute;width: 1px;}#sk-container-id-4 div.sk-estimator {font-family: monospace;background-color: #f0f8ff;border: 1px dotted black;border-radius: 0.25em;box-sizing: border-box;margin-bottom: 0.5em;}#sk-container-id-4 div.sk-estimator:hover {background-color: #d4ebff;}#sk-container-id-4 div.sk-parallel-item::after {content: \"\";width: 100%;border-bottom: 1px solid gray;flex-grow: 1;}#sk-container-id-4 div.sk-label:hover label.sk-toggleable__label {background-color: #d4ebff;}#sk-container-id-4 div.sk-serial::before {content: \"\";position: absolute;border-left: 1px solid gray;box-sizing: border-box;top: 0;bottom: 0;left: 50%;z-index: 0;}#sk-container-id-4 div.sk-serial {display: flex;flex-direction: column;align-items: center;background-color: white;padding-right: 0.2em;padding-left: 0.2em;position: relative;}#sk-container-id-4 div.sk-item {position: relative;z-index: 1;}#sk-container-id-4 div.sk-parallel {display: flex;align-items: stretch;justify-content: center;background-color: white;position: relative;}#sk-container-id-4 div.sk-item::before, #sk-container-id-4 div.sk-parallel-item::before {content: \"\";position: absolute;border-left: 1px solid gray;box-sizing: border-box;top: 0;bottom: 0;left: 50%;z-index: -1;}#sk-container-id-4 div.sk-parallel-item {display: flex;flex-direction: column;z-index: 1;position: relative;background-color: white;}#sk-container-id-4 div.sk-parallel-item:first-child::after {align-self: flex-end;width: 50%;}#sk-container-id-4 div.sk-parallel-item:last-child::after {align-self: flex-start;width: 50%;}#sk-container-id-4 div.sk-parallel-item:only-child::after {width: 0;}#sk-container-id-4 div.sk-dashed-wrapped {border: 1px dashed gray;margin: 0 0.4em 0.5em 0.4em;box-sizing: border-box;padding-bottom: 0.4em;background-color: white;}#sk-container-id-4 div.sk-label label {font-family: monospace;font-weight: bold;display: inline-block;line-height: 1.2em;}#sk-container-id-4 div.sk-label-container {text-align: center;}#sk-container-id-4 div.sk-container {/* jupyter's `normalize.less` sets `[hidden] { display: none; }` but bootstrap.min.css set `[hidden] { display: none !important; }` so we also need the `!important` here to be able to override the default hidden behavior on the sphinx rendered scikit-learn.org. See: https://github.com/scikit-learn/scikit-learn/issues/21755 */display: inline-block !important;position: relative;}#sk-container-id-4 div.sk-text-repr-fallback {display: none;}</style><div id=\"sk-container-id-4\" class=\"sk-top-container\"><div class=\"sk-text-repr-fallback\"><pre>XGBRegressor(base_score=None, booster=None, callbacks=None,\n",
       "             colsample_bylevel=None, colsample_bynode=None,\n",
       "             colsample_bytree=None, early_stopping_rounds=None,\n",
       "             enable_categorical=False, eval_metric=None, feature_types=None,\n",
       "             gamma=None, gpu_id=None, grow_policy=None, importance_type=None,\n",
       "             interaction_constraints=None, learning_rate=None, max_bin=None,\n",
       "             max_cat_threshold=None, max_cat_to_onehot=None,\n",
       "             max_delta_step=None, max_depth=None, max_leaves=None,\n",
       "             min_child_weight=None, missing=nan, monotone_constraints=None,\n",
       "             n_estimators=100, n_jobs=None, num_parallel_tree=None,\n",
       "             predictor=None, random_state=None, ...)</pre><b>In a Jupyter environment, please rerun this cell to show the HTML representation or trust the notebook. <br />On GitHub, the HTML representation is unable to render, please try loading this page with nbviewer.org.</b></div><div class=\"sk-container\" hidden><div class=\"sk-item\"><div class=\"sk-estimator sk-toggleable\"><input class=\"sk-toggleable__control sk-hidden--visually\" id=\"sk-estimator-id-4\" type=\"checkbox\" checked><label for=\"sk-estimator-id-4\" class=\"sk-toggleable__label sk-toggleable__label-arrow\">XGBRegressor</label><div class=\"sk-toggleable__content\"><pre>XGBRegressor(base_score=None, booster=None, callbacks=None,\n",
       "             colsample_bylevel=None, colsample_bynode=None,\n",
       "             colsample_bytree=None, early_stopping_rounds=None,\n",
       "             enable_categorical=False, eval_metric=None, feature_types=None,\n",
       "             gamma=None, gpu_id=None, grow_policy=None, importance_type=None,\n",
       "             interaction_constraints=None, learning_rate=None, max_bin=None,\n",
       "             max_cat_threshold=None, max_cat_to_onehot=None,\n",
       "             max_delta_step=None, max_depth=None, max_leaves=None,\n",
       "             min_child_weight=None, missing=nan, monotone_constraints=None,\n",
       "             n_estimators=100, n_jobs=None, num_parallel_tree=None,\n",
       "             predictor=None, random_state=None, ...)</pre></div></div></div></div></div>"
      ],
      "text/plain": [
       "XGBRegressor(base_score=None, booster=None, callbacks=None,\n",
       "             colsample_bylevel=None, colsample_bynode=None,\n",
       "             colsample_bytree=None, early_stopping_rounds=None,\n",
       "             enable_categorical=False, eval_metric=None, feature_types=None,\n",
       "             gamma=None, gpu_id=None, grow_policy=None, importance_type=None,\n",
       "             interaction_constraints=None, learning_rate=None, max_bin=None,\n",
       "             max_cat_threshold=None, max_cat_to_onehot=None,\n",
       "             max_delta_step=None, max_depth=None, max_leaves=None,\n",
       "             min_child_weight=None, missing=nan, monotone_constraints=None,\n",
       "             n_estimators=100, n_jobs=None, num_parallel_tree=None,\n",
       "             predictor=None, random_state=None, ...)"
      ]
     },
     "execution_count": 74,
     "metadata": {},
     "output_type": "execute_result"
    }
   ],
   "source": [
    "# fit model no training data\n",
    "\n",
    "model = XGBRegressor()\n",
    "model.fit(X_train, y_likes_train)"
   ]
  },
  {
   "cell_type": "code",
   "execution_count": 75,
   "metadata": {},
   "outputs": [
    {
     "name": "stdout",
     "output_type": "stream",
     "text": [
      "Accuracy: 10.53%\n"
     ]
    }
   ],
   "source": [
    "# make predictions for test data\n",
    "y_pred = model.predict(X_test)\n",
    "predictions = [round(value) for value in y_pred]\n",
    "# evaluate predictions\n",
    "accuracy = accuracy_score(y_likes_test, predictions)\n",
    "print(\"Accuracy: %.2f%%\" % (accuracy * 100.0))\n"
   ]
  },
  {
   "cell_type": "code",
   "execution_count": 76,
   "metadata": {},
   "outputs": [
    {
     "name": "stdout",
     "output_type": "stream",
     "text": [
      "Mean MAE: 4.680 (2.009)\n"
     ]
    }
   ],
   "source": [
    "#Define model evaluation method\n",
    "\n",
    "from sklearn.model_selection import cross_val_score\n",
    "from sklearn.model_selection import RepeatedKFold\n",
    "from numpy import absolute\n",
    "cv = RepeatedKFold(n_splits=10, n_repeats=5, random_state=1)\n",
    "#Evaluate the model\n",
    "scores = cross_val_score(model, X_test, ylabel_likes_test, scoring='neg_mean_absolute_error', cv=cv, n_jobs=-1)\n",
    "#Absolute MAE\n",
    "#Absolute MAE\n",
    "scores = absolute(scores)\n",
    "print('Mean MAE: %.3f (%.3f)' % (scores.mean(), scores.std()))"
   ]
  },
  {
   "attachments": {},
   "cell_type": "markdown",
   "metadata": {},
   "source": [
    "##### So in case of no of likes in this model Lasso Regression gives the max accuracy with 47% and not XG-Boost"
   ]
  },
  {
   "cell_type": "code",
   "execution_count": null,
   "metadata": {},
   "outputs": [],
   "source": [
    "\n",
    "## training model for no of times since posted"
   ]
  },
  {
   "attachments": {},
   "cell_type": "markdown",
   "metadata": {},
   "source": [
    "## Model training to predict the number of times since posted"
   ]
  },
  {
   "cell_type": "code",
   "execution_count": 81,
   "metadata": {},
   "outputs": [],
   "source": [
    "# Select the relevant features and target variables\n",
    "# Split the data into training and testing sets\n",
    "\n",
    "features = ['USERNAME', 'Caption', 'Hashtags', 'Followers','Likes']\n",
    "target_time_since_posted = 'Time since posted'\n",
    "X = df[features]\n",
    "y_time_since_posted=df[target_time_since_posted]\n",
    "X_train,X_test,y_time_since_posted_train,y_time_since_posted_test= train_test_split(X, y_time_since_posted, test_size=0.2, random_state=42)"
   ]
  },
  {
   "cell_type": "code",
   "execution_count": 83,
   "metadata": {},
   "outputs": [],
   "source": [
    "# Define which columns should be ordinal-encoded and which should be scaled\n",
    "categorical_cols = X.select_dtypes(include='object').columns\n",
    "numerical_cols = X.select_dtypes(exclude='object').columns"
   ]
  },
  {
   "cell_type": "code",
   "execution_count": 84,
   "metadata": {},
   "outputs": [],
   "source": [
    "## Numerical Pipeline\n",
    "num_pipeline=Pipeline(\n",
    "    steps=[\n",
    "    ('imputer',SimpleImputer(strategy='median')),\n",
    "    ('scaler',StandardScaler())\n",
    "\n",
    "    ]\n",
    "\n",
    ")\n",
    "\n",
    "# Categorigal Pipeline\n",
    "cat_pipeline=Pipeline(\n",
    "    steps=[\n",
    "    ('imputer',SimpleImputer(strategy='most_frequent')),\n",
    "    ('onehotencoder',OneHotEncoder(sparse=False, handle_unknown='ignore')),\n",
    "    ('scaler',StandardScaler())\n",
    "    ]\n",
    "\n",
    ")\n",
    "\n",
    "preprocessor=ColumnTransformer([\n",
    "('num_pipeline',num_pipeline,numerical_cols),\n",
    "('cat_pipeline',cat_pipeline,categorical_cols)\n",
    "])"
   ]
  },
  {
   "cell_type": "code",
   "execution_count": 85,
   "metadata": {},
   "outputs": [
    {
     "name": "stderr",
     "output_type": "stream",
     "text": [
      "e:\\placement_assignment\\Machine_Learning\\Ques_1\\ques_1\\lib\\site-packages\\sklearn\\preprocessing\\_encoders.py:868: FutureWarning: `sparse` was renamed to `sparse_output` in version 1.2 and will be removed in 1.4. `sparse_output` is ignored unless you leave `sparse` to its default value.\n",
      "  warnings.warn(\n"
     ]
    }
   ],
   "source": [
    "#  preprocess the data based on pipleline\n",
    "X_train=pd.DataFrame(preprocessor.fit_transform(X_train),columns=preprocessor.get_feature_names_out())\n",
    "X_test=pd.DataFrame(preprocessor.transform(X_test),columns=preprocessor.get_feature_names_out())"
   ]
  },
  {
   "cell_type": "code",
   "execution_count": 86,
   "metadata": {},
   "outputs": [],
   "source": [
    "def evaluate_model(true, predicted):\n",
    "    mae = mean_absolute_error(true, predicted)\n",
    "    mse = mean_squared_error(true, predicted)\n",
    "    rmse = np.sqrt(mean_squared_error(true, predicted))\n",
    "    r2_square = r2_score(true, predicted)\n",
    "    return mae, rmse, r2_square"
   ]
  },
  {
   "cell_type": "code",
   "execution_count": 87,
   "metadata": {},
   "outputs": [
    {
     "name": "stdout",
     "output_type": "stream",
     "text": [
      "LinearRegression\n",
      "Model Training Performance\n",
      "RMSE: 32.62415211527379\n",
      "MAE: 25.27502083871913\n",
      "R2 score 33.31926851253198\n",
      "===================================\n",
      "\n",
      "\n",
      "Lasso\n",
      "Model Training Performance\n",
      "RMSE: 0.671712185463488\n",
      "MAE: 0.5391068397197667\n",
      "R2 score 99.97173243872156\n",
      "===================================\n",
      "\n",
      "\n",
      "Ridge\n",
      "Model Training Performance\n",
      "RMSE: 32.14260965861128\n",
      "MAE: 24.330824888894572\n",
      "R2 score 35.27319696166503\n",
      "===================================\n",
      "\n",
      "\n",
      "Elasticnet\n",
      "Model Training Performance\n",
      "RMSE: 31.208043589928256\n",
      "MAE: 20.194325289248773\n",
      "R2 score 38.982420397798535\n",
      "===================================\n",
      "\n",
      "\n"
     ]
    }
   ],
   "source": [
    "models={\n",
    "    'LinearRegression':LinearRegression(),\n",
    "    'Lasso':Lasso(),\n",
    "    'Ridge':Ridge(),\n",
    "    'Elasticnet':ElasticNet()\n",
    "}\n",
    "trained_model_list=[]\n",
    "model_list=[]\n",
    "r2_list=[]\n",
    "\n",
    "for i in range(len(list(models))):\n",
    "    model=list(models.values())[i]\n",
    "    model.fit(X_train,y_likes_train)\n",
    "\n",
    "    #Make Predictions\n",
    "    y_pred=model.predict(X_test)\n",
    "\n",
    "    mae, rmse, r2_square=evaluate_model(y_likes_test,y_pred)\n",
    "\n",
    "    print(list(models.keys())[i])\n",
    "    model_list.append(list(models.keys())[i])\n",
    "\n",
    "    print('Model Training Performance')\n",
    "    print(\"RMSE:\",rmse)\n",
    "    print(\"MAE:\",mae)\n",
    "    print(\"R2 score\",r2_square*100)\n",
    "\n",
    "    r2_list.append(r2_square)\n",
    "    \n",
    "    print('='*35)\n",
    "    print('\\n')"
   ]
  },
  {
   "attachments": {},
   "cell_type": "markdown",
   "metadata": {},
   "source": [
    "##### Hence the model Lasso Regression gives 99.9% accuray for the prediction of no of time since posted"
   ]
  },
  {
   "cell_type": "code",
   "execution_count": null,
   "metadata": {},
   "outputs": [],
   "source": []
  }
 ],
 "metadata": {
  "kernelspec": {
   "display_name": "Python 3",
   "language": "python",
   "name": "python3"
  },
  "language_info": {
   "codemirror_mode": {
    "name": "ipython",
    "version": 3
   },
   "file_extension": ".py",
   "mimetype": "text/x-python",
   "name": "python",
   "nbconvert_exporter": "python",
   "pygments_lexer": "ipython3",
   "version": "3.8.0"
  },
  "orig_nbformat": 4
 },
 "nbformat": 4,
 "nbformat_minor": 2
}
